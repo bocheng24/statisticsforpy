{
 "cells": [
  {
   "cell_type": "code",
   "execution_count": 1,
   "id": "db028e53",
   "metadata": {},
   "outputs": [],
   "source": [
    "import numpy as np\n",
    "import matplotlib.pyplot as plt"
   ]
  },
  {
   "cell_type": "code",
   "execution_count": 4,
   "id": "9c3f6f3a",
   "metadata": {},
   "outputs": [
    {
     "data": {
      "text/plain": [
       "array([0.1, 0.2, 0.4, 0.3])"
      ]
     },
     "execution_count": 4,
     "metadata": {},
     "output_type": "execute_result"
    }
   ],
   "source": [
    "c = np.array([1, 2, 4, 3])\n",
    "\n",
    "prob = c / np.sum(c)\n",
    "prob"
   ]
  },
  {
   "cell_type": "code",
   "execution_count": 33,
   "id": "8ba7c2f8",
   "metadata": {},
   "outputs": [
    {
     "data": {
      "text/plain": [
       "array([1., 1., 1., 1., 1., 1., 1., 1., 1., 1., 1., 1., 1., 1., 1., 1., 1.,\n",
       "       1., 1., 1., 1., 1., 1., 1., 1., 1., 1., 1., 1., 1., 1., 1., 1., 1.,\n",
       "       1., 1., 1., 1., 1., 1., 2., 2., 2., 2., 2., 2., 2., 2., 2., 2., 2.,\n",
       "       2., 2., 2., 2., 2., 2., 2., 2., 2., 2., 2., 2., 2., 2., 2., 2., 2.,\n",
       "       2., 2., 3., 3., 3., 3., 3., 3., 3., 3., 3., 3., 3., 3., 3., 3., 3.,\n",
       "       3., 3., 3., 3., 3.])"
      ]
     },
     "execution_count": 33,
     "metadata": {},
     "output_type": "execute_result"
    }
   ],
   "source": [
    "blue = 40\n",
    "yellow = 30\n",
    "orange = 20\n",
    "\n",
    "totalnum = blue + yellow + orange\n",
    "\n",
    "jar = np.hstack((1 * np.ones(blue), 2 * np.ones(yellow), 3 * np.ones(orange)))\n",
    "\n",
    "jar"
   ]
  },
  {
   "cell_type": "code",
   "execution_count": 52,
   "id": "d8ea48c7",
   "metadata": {},
   "outputs": [],
   "source": [
    "numTrial = 2000\n",
    "trialColors = np.zeros(numTrial)\n",
    "\n",
    "for trial in range(numTrial):\n",
    "    \n",
    "    rand = int(np.random.rand() * totalnum)\n",
    "    trialColors[trial] = jar[rand]\n",
    "\n",
    "#trialColors"
   ]
  },
  {
   "cell_type": "code",
   "execution_count": 53,
   "id": "e597603e",
   "metadata": {},
   "outputs": [
    {
     "data": {
      "image/png": "[encoded data removed]",
      "text/plain": [
       "<Figure size 864x720 with 1 Axes>"
      ]
     },
     "metadata": {
      "needs_background": "light"
     },
     "output_type": "display_data"
    }
   ],
   "source": [
    "# Propotion of each color\n",
    "\n",
    "pp_blue = np.sum(trialColors == 1) / numTrial\n",
    "pp_yellow = np.sum(trialColors == 2) / numTrial\n",
    "pp_org = np.sum(trialColors == 3) / numTrial\n",
    "\n",
    "plt.figure(figsize = (12, 10))\n",
    "\n",
    "plt.bar([1, 2, 3], [pp_blue, pp_yellow, pp_org], label = 'Propotion')\n",
    "plt.plot([0.5, 1.5], [blue / totalnum, blue / totalnum], color = 'r', linewidth = 3, label = 'Probability')\n",
    "plt.plot([1.5, 2.5], [yellow / totalnum, yellow / totalnum], color = 'r', linewidth = 3, label = 'Probability')\n",
    "plt.plot([2.5, 3.5], [orange / totalnum, orange / totalnum], color = 'r', linewidth = 3, label = 'Probability')\n",
    "\n",
    "plt.show()"
   ]
  },
  {
   "cell_type": "code",
   "execution_count": null,
   "id": "10fed289",
   "metadata": {},
   "outputs": [],
   "source": []
  },
  {
   "cell_type": "code",
   "execution_count": null,
   "id": "4998e616",
   "metadata": {},
   "outputs": [],
   "source": []
  },
  {
   "cell_type": "code",
   "execution_count": null,
   "id": "d66aeb6b",
   "metadata": {},
   "outputs": [],
   "source": []
  },
  {
   "cell_type": "code",
   "execution_count": null,
   "id": "07dfb77c",
   "metadata": {},
   "outputs": [],
   "source": []
  },
  {
   "cell_type": "code",
   "execution_count": null,
   "id": "3603f86b",
   "metadata": {},
   "outputs": [],
   "source": []
  },
  {
   "cell_type": "code",
   "execution_count": null,
   "id": "87f591e7",
   "metadata": {},
   "outputs": [],
   "source": []
  }
 ],
 "metadata": {
  "kernelspec": {
   "display_name": "Python 3 (ipykernel)",
   "language": "python",
   "name": "python3"
  },
  "language_info": {
   "codemirror_mode": {
    "name": "ipython",
    "version": 3
   },
   "file_extension": ".py",
   "mimetype": "text/x-python",
   "name": "python",
   "nbconvert_exporter": "python",
   "pygments_lexer": "ipython3",
   "version": "3.9.7"
  }
 },
 "nbformat": 4,
 "nbformat_minor": 5
}
